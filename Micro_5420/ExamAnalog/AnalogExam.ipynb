{
 "cells": [
  {
   "cell_type": "markdown",
   "metadata": {},
   "source": [
    "Calvin Passmore\n",
    "\n",
    "A02107892\n",
    "\n",
    "ECE 5420\n",
    "\n",
    "# Exam: Analog Circuits\n",
    "\n",
    "---"
   ]
  },
  {
   "cell_type": "markdown",
   "metadata": {},
   "source": [
    "\n",
    "## Problem 1\n",
    "\n",
    "Triode Mode: id = Kn[Vov * Vds - 0.5 * Vds^2] * (1 + &lambda; * Vds)\n",
    "\n",
    "id = 1.5 mA = (W/L) * Ut * [Vov * Vds - 0.5 * Vds ^ 2] * (1 + &lambda; + Vds)\n",
    "\n",
    "i_target = id * 10\n",
    "\n",
    "Kn_target * Constants = Kn * Constants * 10\n",
    "\n",
    "(W / L) = (W / L ) * 10\n",
    "\n",
    "w_target = w * 10\n",
    "\n",
    "w = 10 um\n",
    "\n",
    "The simulation matched the calculations fairly closely but was not exact, the simulation gave a width of 11.3 um.\n",
    "\n",
    "The calculated results:\n",
    "![1calc](./1_calc.png)\n",
    "\n",
    "Adjusting the simulation to give a perfect 15mA:\n",
    "![1sim](./1_sim.png)\n",
    "\n",
    "---\n",
    "---"
   ]
  },
  {
   "cell_type": "markdown",
   "metadata": {},
   "source": [
    "\n",
    "## Problem 2\n",
    "\n",
    "The NMOS is now in saturation because Vds changed. Vov = Vgs - Vth = 3 - 0.43 = 2.57. Vds = Vdd - Vled = 9 - 2 = 7. Vds > Vov &rightarrow; Saturation."
   ]
  },
  {
   "cell_type": "code",
   "execution_count": 12,
   "metadata": {},
   "outputs": [
    {
     "name": "stdout",
     "output_type": "stream",
     "text": [
      "0.0027913430232999995\n"
     ]
    }
   ],
   "source": [
    "W = 1e-6\n",
    "L = 0.2e-6\n",
    "Vgs = 3\n",
    "Vth = 0.43\n",
    "Vov = Vgs - Vth\n",
    "Ut = 118e-6\n",
    "lam = 0.06\n",
    "Vds = 7.21  # from EveryCircuit - LED voltage drop\n",
    "\n",
    "id = 0.5 * W / L * Ut * (Vov**2) * (1 + (lam * Vds))\n",
    "print(id)"
   ]
  },
  {
   "cell_type": "code",
   "execution_count": 15,
   "metadata": {},
   "outputs": [
    {
     "name": "stdout",
     "output_type": "stream",
     "text": [
      "5.373757318535004e-06\n"
     ]
    }
   ],
   "source": [
    "i_target = 15e-3\n",
    "w_target = W * (i_target / id)\n",
    "print(w_target)"
   ]
  },
  {
   "cell_type": "markdown",
   "metadata": {},
   "source": [
    "\n",
    "Using the ratio of the calculated current, and the desired current, we can get a target width of 5.37 um. Verifying with EveryCircuit gives a width of 5.343\n",
    "\n",
    "![2](./2.png)\n",
    "\n",
    "If Vds is changed to 12, and 24. The currents are as follows"
   ]
  },
  {
   "cell_type": "code",
   "execution_count": 19,
   "metadata": {},
   "outputs": [
    {
     "name": "stdout",
     "output_type": "stream",
     "text": [
      "0.01675275722462655\n",
      "0.024291497975708495\n"
     ]
    }
   ],
   "source": [
    "V12 = 12 - 2 # subtract 2 for the LED\n",
    "V24 = 24 - 2\n",
    "\n",
    "i12 = 0.5 * w_target / L * Ut * (Vov**2) * (1 + (lam * V12))\n",
    "i24 = 0.5 * w_target / L * Ut * (Vov**2) * (1 + (lam * V24))\n",
    "\n",
    "print(i12)\n",
    "print(i24)"
   ]
  },
  {
   "cell_type": "markdown",
   "metadata": {},
   "source": [
    "To explain my prediction, we just changed the Vds value in accordance with the channel length modulation.\n",
    "\n",
    "Vds = 12v &rightarrow; id = 16.75 mA\n",
    "Vds = 24v &rightarrow; id = 24.29 mA\n",
    "\n",
    "The EveryCircuit demo gives value of\n",
    "\n",
    "Vds = 12v &rightarrow; id = 16.9 mA\n",
    "Vds = 24v &rightarrow; id = 24.5 mA\n",
    "\n",
    "The small discrepency can be attributed to the slight difference of the new w value\n",
    "\n",
    "---\n",
    "---"
   ]
  },
  {
   "cell_type": "markdown",
   "metadata": {},
   "source": [
    "## Problem 3\n",
    "\n",
    "Maximum signal amplitude:"
   ]
  },
  {
   "cell_type": "code",
   "execution_count": 21,
   "metadata": {},
   "outputs": [
    {
     "name": "stdout",
     "output_type": "stream",
     "text": [
      "0.0004\n"
     ]
    }
   ],
   "source": [
    "\n",
    "Vin_max = 2 # v\n",
    "DC = 2  # v\n",
    "iph_max = 100e-6 * (Vin_max + DC)\n",
    "\n",
    "print(iph_max)"
   ]
  },
  {
   "cell_type": "markdown",
   "metadata": {},
   "source": [
    "Max signal amplitude = 400 uA\n",
    "\n",
    "EveryCircuit max signal amplitude = 400 uA\n",
    "\n",
    "Min Voltage = Vdd - Imax*R = 5 - 400u * 10k = 5- 4 = 1 v\n",
    "\n",
    "![](./3_dc_offset.png)\n",
    "\n",
    "Now adding the ambient light as 2V DC"
   ]
  },
  {
   "cell_type": "code",
   "execution_count": 22,
   "metadata": {},
   "outputs": [
    {
     "name": "stdout",
     "output_type": "stream",
     "text": [
      "0.0006000000000000001\n"
     ]
    }
   ],
   "source": [
    "DC = 4\n",
    "iph_max = 100e-6 * (Vin_max + DC)\n",
    "\n",
    "print(iph_max)"
   ]
  },
  {
   "cell_type": "markdown",
   "metadata": {},
   "source": [
    "Max signal amplitude = 600 uA\n",
    "\n",
    "Everycircuit max signal amplitude = 563 uA\n",
    "\n",
    "Min Voltage = Vdd - (Imax * R - (Iled)) = 5 - (600u * 10k - Iled) = 5 - 6 - Iled * R = -1 * Iled*R v. So this would be -1 v except it activates the forward bias of the photodiode.\n",
    "\n",
    "![](./3_ambient.png)\n",
    "\n",
    "The difference is that when the current gets large enough, its creating a negative voltage (creating more than 5V) so the photodiode is becoming forward biased and letting current through that offsets some of the light driven current.\n",
    "\n",
    "Generalized equation:\n",
    "\n",
    "Imax = 100uA * (Vin_max + DC) when Vin_max is small\n",
    "\n",
    "Imax = 100uA * (Vin_max + DC) - Iled when Vin_max is close to or larger than VDD\n",
    "\n",
    "### Attach a load\n",
    "\n",
    "When a load is attached, it consumes some of the current at the Vout, decreasing Vout. This prevents Vout from getting close to the LED forward bias voltage and not allowing the photodiode to  have voltage\n",
    "\n",
    "![](./3_load.png)"
   ]
  },
  {
   "cell_type": "markdown",
   "metadata": {},
   "source": [
    "## Problem 4\n",
    "\n",
    "Advantage:\n",
    "+ Can maintain a higher amplitude without a load, decouples the output from VDD\n",
    "\n",
    "Disadvantage:\n",
    "+ More parts\n",
    "\n",
    "Maximum Signal Amplitude\n",
    "\n",
    "![](./maxamp_4.drawio.png)\n",
    "\n",
    "The above drawing shows that when the current is moved through the resistor the voltage at the end of the op amp will be fluctuating at Iph * R + 1\n",
    "\n",
    "Imax = 100u * (Vmax + DC) = 100u * (2 + 2) = 400 u\n",
    "\n",
    "![](./4_dc.png)\n",
    "\n",
    "Imax = 100u * (Vmax + DC) = 100u * (2 + 4) = 600u\n",
    "\n",
    "Generalized Imax = Gain * (Vmax + DC_ambient)\n",
    "\n",
    "### Attach a load\n",
    "\n",
    "When a load is attached, the current passing through the photodiode, and the resistor, is not changed. Therefore Vout is not changed when the load is applied. This is a huge advantage, that the load is decoupled from Vout.\n",
    "\n",
    "![](./4_load.png)\n",
    "\n",
    "### Differences\n",
    "\n",
    "The biggest differences, besides the components, is that the load has been decoupled from Vout. So Vout is no longer affected by what is happening at the load."
   ]
  },
  {
   "cell_type": "markdown",
   "metadata": {},
   "source": [
    "## Problem 5\n",
    "\n",
    "![](./5_vadj0.drawio.png)\n",
    "\n",
    "Ib = 0.5 * Kp * Vov^2 = 0.5 * Kp * (Vgs - Vthp) ^ 2 = 0.5 * Kp * (Vx - Vthp) ^ 2\n",
    "\n",
    "Vx = R * (Ib + Ia)\n",
    "\n",
    "0 = Vx^2 * Kp - Vx / R - Kp * Vthp + Kp * Vthp^2 + Ia"
   ]
  },
  {
   "cell_type": "code",
   "execution_count": 34,
   "metadata": {},
   "outputs": [
    {
     "name": "stdout",
     "output_type": "stream",
     "text": [
      "0.48986797345817357\n",
      "-0.48990097675850364\n"
     ]
    }
   ],
   "source": [
    "from math import sqrt\n",
    "\n",
    "Kp = 30.3 # From EveryCircuit\n",
    "R = 1e3\n",
    "Vthp = 400e-3 # From EveryCircuit\n",
    "\n",
    "Vin_max = 2\n",
    "Vdc = 2\n",
    "\n",
    "Ia = 100e-6 * (Vin_max + Vdc)\n",
    "\n",
    "A = Kp\n",
    "B = 1 / R\n",
    "C = -Kp * Vthp + Kp * Vthp**2 + Ia\n",
    "\n",
    "Vx1 = (-B + sqrt(B**2 - 4 * A * C)) / (2 * A)\n",
    "Vx2 = (-B - sqrt(B**2 - 4 * A * C)) / (2 * A)\n",
    "\n",
    "print(Vx1)\n",
    "print(Vx2)"
   ]
  },
  {
   "cell_type": "markdown",
   "metadata": {},
   "source": [
    "Vx = 0.490 v"
   ]
  },
  {
   "cell_type": "code",
   "execution_count": 36,
   "metadata": {},
   "outputs": [
    {
     "name": "stdout",
     "output_type": "stream",
     "text": [
      "0.12235522770020663\n"
     ]
    }
   ],
   "source": [
    "Ib = 0.5 * Kp * ((Vx1 - Vthp)**2)\n",
    "print(Ib)"
   ]
  },
  {
   "cell_type": "markdown",
   "metadata": {},
   "source": [
    "IB = 122.4 mA\n",
    "\n",
    "### Generalize Vout\n",
    "\n",
    "Vout = (Iph * R) + Vadj = (100u * (Vin_max + V_dc_ambient) * R) + Vadj\n",
    "\n",
    "\n",
    "### What is the PMOS doing\n",
    "\n",
    "The PMOS is keeping the photodiode in reverse bias. This allows Vadj to be changed to the necessary value while keeping the photodiode in reverse bias.\n",
    "\n",
    "### Loaded Vout\n",
    "\n",
    "When a load is applied to Vout, Vout is unchanged. This is done by keeping the photodiode in reverse bias, as well as isolating Vout from the rest of the circuit with the OpAmp.\n",
    "\n",
    "![](./5Vadj_volt_current.png)"
   ]
  },
  {
   "cell_type": "markdown",
   "metadata": {},
   "source": [
    "## Problem 6\n",
    "\n",
    "This circuit works by charging/discharging the capacitor to keep the output of the OpAmp at the appropriate 'Vadj' level, offsetting the output voltage to keep Vout centered at 0v.\n",
    "\n",
    "Using the small signal analysis near Vout, it gives us this.\n",
    "\n",
    "![](./6_small_sig.drawio.png)\n",
    "\n",
    "Using current divisors, Iph = 10k/11k * Iop and Iadj = 1k/11k * Iop\n",
    "\n",
    "Iop = 11/10 * Iph = 11/10 * (Iph * (Vinmax + Vdc)) = 11/10 * 100u * (4) = 440uA\n",
    "\n",
    "Iadj = 1/10 * 100u * (4) = 40uA\n",
    "\n",
    "Iph = 100u * (4) = 400uA\n",
    "\n",
    "Vout = Iadj * Radj = 40uA * 1k = \n",
    "\n",
    "![](./6_amp_change.png)\n"
   ]
  }
 ],
 "metadata": {
  "kernelspec": {
   "display_name": "Python 3.10.6 64-bit",
   "language": "python",
   "name": "python3"
  },
  "language_info": {
   "codemirror_mode": {
    "name": "ipython",
    "version": 3
   },
   "file_extension": ".py",
   "mimetype": "text/x-python",
   "name": "python",
   "nbconvert_exporter": "python",
   "pygments_lexer": "ipython3",
   "version": "3.10.6"
  },
  "orig_nbformat": 4,
  "vscode": {
   "interpreter": {
    "hash": "916dbcbb3f70747c44a77c7bcd40155683ae19c65e1c03b4aa3499c5328201f1"
   }
  }
 },
 "nbformat": 4,
 "nbformat_minor": 2
}
