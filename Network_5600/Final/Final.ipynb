{
 "cells": [
  {
   "attachments": {},
   "cell_type": "markdown",
   "metadata": {},
   "source": [
    "Calvin Passmore\n",
    "\n",
    "A02107892\n",
    "\n",
    "ECE 5600\n",
    "\n",
    "# Final Exam"
   ]
  },
  {
   "attachments": {},
   "cell_type": "markdown",
   "metadata": {},
   "source": [
    "## 1\n",
    "Match the network layer with its function\n",
    "\n",
    "Name | Answer\n",
    "-----|--------\n",
    "Application Layer   | c. user programs are part of this layer\n",
    "Network Layer       | f. handles routing through subnet\n",
    "Physical Layer      | e. deals with voltages, frequencies, radiation, etc.\n",
    "Transport Layer     | d. handles framing of data\n",
    "Presentation Layer  | b. converts data to the user's desired format\n",
    "Data-link Layer     | a. provides end-to-end communication"
   ]
  },
  {
   "attachments": {},
   "cell_type": "markdown",
   "metadata": {},
   "source": [
    "## 2\n",
    "Name two classical techniques used to multiplex multiple lower-bandwidth channels onto a single higher bandwidth line.\n",
    "\n",
    "1. Frequency division multiplexing (FDM)\n",
    "2. Time division multiplexing (TDM)"
   ]
  },
  {
   "attachments": {},
   "cell_type": "markdown",
   "metadata": {},
   "source": [
    "## 3\n",
    "Assume a telephone line has a bandwidth of 3100HZ and a Shannon limit of 37 kbps, what is the minimum possible signal-to-noise ratio? Express your answer in dB."
   ]
  },
  {
   "cell_type": "code",
   "execution_count": 2,
   "metadata": {},
   "outputs": [
    {
     "name": "stdout",
     "output_type": "stream",
     "text": [
      "35.92827765699723\n"
     ]
    }
   ],
   "source": [
    "import math\n",
    "\n",
    "C = 37e3 # Shannon limit\n",
    "B = 3100 # Hz\n",
    "\n",
    "SNR = 2**(C/B) - 1\n",
    "SNR_dB = 10 * math.log(SNR, 10)\n",
    "print(SNR_dB)"
   ]
  },
  {
   "attachments": {},
   "cell_type": "markdown",
   "metadata": {},
   "source": [
    "The minimum possible signal to noise ratio is 35.93 dB."
   ]
  },
  {
   "attachments": {},
   "cell_type": "markdown",
   "metadata": {},
   "source": [
    "## 4\n",
    "How can 56kbps modems seemingly exceed the Shannon Limit?\n",
    "\n",
    "By removing the local loops at the end, the Shannon limit is seemingly exceeding. However it is really just lower the SNR."
   ]
  },
  {
   "attachments": {},
   "cell_type": "markdown",
   "metadata": {},
   "source": [
    "## 5\n",
    "How is the following bit string transmitted with (a) bit stuffing and (b) byte stuffing as it is done in PPP: 01111111 11100000 01111110 01111101.\n",
    "\n",
    "(a) 011111011 111000000 011111010 011111001\n",
    "\n",
    "(b) 01111111 11100000 ESC 01111110 01111101"
   ]
  },
  {
   "attachments": {},
   "cell_type": "markdown",
   "metadata": {},
   "source": [
    "## 6\n",
    "What is the difference between pure and slotted ALOHA for channel alocation?\n",
    "\n",
    "In pure ALOHA, a channel may attempt to send whenever it will.\n",
    "\n",
    "In slotted ALOHA, a channel may only start to send on a slot, or a given time interval."
   ]
  },
  {
   "attachments": {},
   "cell_type": "markdown",
   "metadata": {},
   "source": [
    "## 7\n",
    "What frequency band does Bluetooth ues, (b) How many different frequencies are used, and (c) How often do frequency hops occur?\n",
    "\n",
    "(a) 2.4 GHz\n",
    "\n",
    "(b) 79 frequencies are used\n",
    "\n",
    "(c) There can be 1600 hops/sec"
   ]
  },
  {
   "attachments": {},
   "cell_type": "markdown",
   "metadata": {},
   "source": [
    "## 8\n",
    "What are the four primary \"Quality of Service\" parameters?\n",
    "\n",
    "1. What applications need from the network\n",
    "2. How to regulate the traffic that enters the network\n",
    "3. How to reserve resources at routers to guaruntee performance\n",
    "4. Whether the network can safely accept more traffic"
   ]
  },
  {
   "attachments": {},
   "cell_type": "markdown",
   "metadata": {},
   "source": [
    "## 9\n",
    "A TCP packet with the FIN + ACK bits set conatins 900 data bytes, has a sequence number = 75 and acknowledge number = 98. Assuming no error is detected, what sequence and acknowledge numbers should be returned in the acknowledgement packet?\n",
    "\n",
    "Sequence = 75\n",
    "ACK = 900"
   ]
  },
  {
   "attachments": {},
   "cell_type": "markdown",
   "metadata": {},
   "source": [
    "## 10\n",
    "Name the algorithm that coalesces small TCP segments while it waits for an acknowledgement of the previous segment.\n",
    "\n",
    "Nagle's algorithm"
   ]
  },
  {
   "attachments": {},
   "cell_type": "markdown",
   "metadata": {},
   "source": [
    "## 11\n",
    "In the PTSN, what is the term for:\n",
    "\n",
    "(a) A connection from one office to another - Local Loops\n",
    "\n",
    "(b) A connection from the end office to the subscriber - Trunks\n",
    "\n",
    "(c) An office that connects to cell phones via base stations - Switching offices"
   ]
  },
  {
   "attachments": {},
   "cell_type": "markdown",
   "metadata": {},
   "source": [
    "## 12\n",
    "Sketch the waverform obtained by encoding 01011011 with 4B/5B then NRZI. Assume an intial state of 0v.\n",
    "\n",
    "0101 1011 &rightarrow; 01011 10111\n",
    "\n",
    "![](./NRZI.drawio.png)"
   ]
  },
  {
   "attachments": {},
   "cell_type": "markdown",
   "metadata": {},
   "source": [
    "## 13\n",
    "Four stations (A..D) using Mok & Ward’s binary countdown algorithm are currently assigned the values A=1, B=4, C=2, D=3 (0 is not used). If C is ready to transmit one frame and D is ready to transmit two frames, what are the address assignments after all three frames have been sent?\n",
    "\n",
    "A = 1\n",
    "\n",
    "B = 2\n",
    "\n",
    "C = 3\n",
    "\n",
    "D = 4"
   ]
  },
  {
   "attachments": {},
   "cell_type": "markdown",
   "metadata": {},
   "source": [
    "## 14\n",
    "Using the CRC polynomial x<sup>4</sup>+x+1 and an initial value of 0, compute the CRC for the bit sequence 10100101.\n",
    "\n",
    "    10011 | 10100101\n",
    "            10011\n",
    "            00111\n",
    "              11110\n",
    "              10011\n",
    "              01101\n",
    "               11011\n",
    "               10011\n",
    "               01000\n",
    "\n",
    "01000"
   ]
  },
  {
   "attachments": {},
   "cell_type": "markdown",
   "metadata": {},
   "source": [
    "## 15\n",
    "7-bit Hamming codewords are used to encode 4-bit values. After transmission over a noisy channel, the codeword 1011011 is received. What was the original 4-bit value?\n",
    "\n",
    "1011011\n",
    "\n",
    "Check bits:\n",
    "10 1\n",
    "\n",
    "Corrected\n",
    "1011010\n",
    "\n",
    "Original Message\n",
    "1010"
   ]
  },
  {
   "attachments": {},
   "cell_type": "markdown",
   "metadata": {},
   "source": [
    "## 16\n",
    "What IP protocol numbers are used for each of the following?\n",
    "\n",
    "(a) IP in IP = 4\n",
    "\n",
    "(b) TCP = 6\n",
    "\n",
    "(c) UDP = 17\n",
    "\n",
    "(d) ICMP = 1"
   ]
  },
  {
   "attachments": {},
   "cell_type": "markdown",
   "metadata": {},
   "source": [
    "## 17\n",
    "(a) Draw a router diagram. Label each link with its length and each node with its router ID (A-F).\n",
    "If the two routers on either side of a link disagree on its length, take the mean (average) of the two.\n",
    "\n",
    "![](./routing.drawio.png)\n",
    "\n",
    "(b) Use Dijkstra’s Algorithm to find the shortest path from router A to all the other routers. In what order to the “nodes” (routers) become permanent.\n",
    "\n",
    "A (0), B (1), D (3), E (4), C (4), F (7)\n",
    "\n",
    "(c)\n",
    "\n",
    "A Routing Table\n",
    "Base IP address/mask | Line\n",
    "---------------------|------\n",
    "130.0.0.0/19 | LAN\n",
    "130.0.32.0/21 | B\n",
    "130.0.40.0/20 | C\n",
    "130.0.48.0/20 | B\n",
    "130.0.64.0/20 | E"
   ]
  },
  {
   "attachments": {},
   "cell_type": "markdown",
   "metadata": {},
   "source": [
    "## 18\n",
    "Consider the subnet in the following.\n",
    "Distance vector routing is used, and the following vectors have just come in to router C: from B: (5, 0, 8, 12, 6, 2); from D: (16, 12, 6, 0, 9, 10); and from E: (7, 6, 3, 9, 0, 4).\n",
    "The measured delays to B, D, and E, are 6, 3, and 5, respectively.\n",
    "What is C’s new routing table? \n",
    "Give both the outgoing line to use and the expected delay.\n",
    "\n",
    "C original table\n",
    "\n",
    "A | B | D | E | F\n",
    "--|---|---|---|---\n",
    " | 6 | 3 | 5 | \n",
    "\n",
    "C by B table\n",
    "\n",
    "A | B | C | D | E | F\n",
    "--|---|---|---|---|---\n",
    "11 | 6 | 14 | 18 | 12 | 8 \n",
    "\n",
    "C by D\n",
    "\n",
    "A | B | C | D | E | F\n",
    "--|---|---|---|---|---\n",
    "19 | 15 | 9 | 3 | 12 | 13\n",
    "\n",
    "C by E\n",
    "\n",
    "A | B | C | D | E | F\n",
    "--|---|---|---|---|---\n",
    "12 | 11 | 8 | 14 | 5 | 9\n",
    "\n",
    "C's new table, below is from who\n",
    "\n",
    "A | B | C | D | E | F\n",
    "--|---|---|---|---|---\n",
    "11 | 6 | 9 | 3 | 5 | 8\n",
    "B  | B | E | D | E | F"
   ]
  },
  {
   "attachments": {},
   "cell_type": "markdown",
   "metadata": {},
   "source": [
    "## 19\n",
    "Provide the well-known port number for each of the following application layer protocols:\n",
    "\n",
    "+ http: 80\n",
    "+ telnet: 23\n",
    "+ dns: 53\n",
    "+ pop3: 110\n",
    "+ echo: 7\n",
    "+ ssh: 22\n",
    "+ https: 443\n",
    "+ tftp: 69\n",
    "+ bootp (server): 67\n",
    "+ bootp (client): 68"
   ]
  },
  {
   "attachments": {},
   "cell_type": "markdown",
   "metadata": {},
   "source": [
    "## 20\n",
    "A Diffie-Hellman key exchange uses p = 43 and g = 13.\n",
    "If one side chooses a random number a of 7 and the other side sends a key exchange message which contains the number 24, what is the secret key?"
   ]
  },
  {
   "cell_type": "code",
   "execution_count": 5,
   "metadata": {},
   "outputs": [
    {
     "name": "stdout",
     "output_type": "stream",
     "text": [
      "6\n"
     ]
    }
   ],
   "source": [
    "g = 13\n",
    "p = 43\n",
    "a = 7\n",
    "g_b_mod_p = 24\n",
    "\n",
    "g_ab_mod_p = (g_b_mod_p ** a) % p\n",
    "\n",
    "print(g_ab_mod_p)"
   ]
  },
  {
   "attachments": {},
   "cell_type": "markdown",
   "metadata": {},
   "source": [
    "The secret key is 6"
   ]
  },
  {
   "attachments": {},
   "cell_type": "markdown",
   "metadata": {},
   "source": [
    "## 21\n",
    "Captain Picard’s public RSA key is (e=29, n=91).\n",
    "What is his private key? (Note: you will have to factor 91 to get it).\n",
    "To verify that you have the right key, show that the decryption D(61) = 3."
   ]
  },
  {
   "cell_type": "code",
   "execution_count": 10,
   "metadata": {},
   "outputs": [
    {
     "name": "stdout",
     "output_type": "stream",
     "text": [
      "7\n",
      "13\n"
     ]
    }
   ],
   "source": [
    "# To factor 91\n",
    "for i in range(2,50,1):\n",
    "    if (91 % i) == 0:\n",
    "        print(i)"
   ]
  },
  {
   "cell_type": "code",
   "execution_count": 11,
   "metadata": {},
   "outputs": [
    {
     "name": "stdout",
     "output_type": "stream",
     "text": [
      "72\n"
     ]
    }
   ],
   "source": [
    "p = 7\n",
    "q = 13\n",
    "z = (p - 1) * (q - 1)\n",
    "print(z)"
   ]
  },
  {
   "attachments": {},
   "cell_type": "markdown",
   "metadata": {},
   "source": [
    "p = 7\n",
    "\n",
    "q = 13\n",
    "\n",
    "z = 72\n",
    "\n",
    "factors are 2 & 3, other relatively prime could be any prime number above 5\n",
    "\n",
    "d = 5"
   ]
  },
  {
   "cell_type": "code",
   "execution_count": 29,
   "metadata": {},
   "outputs": [
    {
     "name": "stdout",
     "output_type": "stream",
     "text": [
      "5\n",
      "11\n",
      "17\n",
      "23\n",
      "29\n"
     ]
    }
   ],
   "source": [
    "possible_d_vals = [5, 7, 11, 13, 17, 19, 23, 29, 31, 37] # There are more possibilities\n",
    "working_d_vals = []\n",
    "\n",
    "for d in possible_d_vals:\n",
    "    for e in range(2, 100):\n",
    "        if (e * d) % z == 1:\n",
    "            working_d_vals.append(d)\n",
    "            break\n",
    "\n",
    "C = 61 # from problem description\n",
    "n = 91\n",
    "\n",
    "for d in working_d_vals:\n",
    "        if (C**d) % n == 3:\n",
    "            print(d)"
   ]
  },
  {
   "attachments": {},
   "cell_type": "markdown",
   "metadata": {},
   "source": [
    "Possible d values for decryption are [5, 11, 17, 23, 29].\n",
    "\n",
    "(61 ^  5) % 91 = 3\n",
    "\n",
    "(61 ^ 11) % 91 = 3\n",
    "\n",
    "(61 ^ 17) % 91 = 3\n",
    "\n",
    "(61 ^ 23) % 91 = 3\n",
    "\n",
    "(61 ^ 29) % 91 = 3\n",
    "\n",
    "While there are likely more, the answer your probabaly looking for is 5."
   ]
  }
 ],
 "metadata": {
  "kernelspec": {
   "display_name": "Python 3.10.6 64-bit",
   "language": "python",
   "name": "python3"
  },
  "language_info": {
   "codemirror_mode": {
    "name": "ipython",
    "version": 3
   },
   "file_extension": ".py",
   "mimetype": "text/x-python",
   "name": "python",
   "nbconvert_exporter": "python",
   "pygments_lexer": "ipython3",
   "version": "3.10.6"
  },
  "orig_nbformat": 4,
  "vscode": {
   "interpreter": {
    "hash": "916dbcbb3f70747c44a77c7bcd40155683ae19c65e1c03b4aa3499c5328201f1"
   }
  }
 },
 "nbformat": 4,
 "nbformat_minor": 2
}
